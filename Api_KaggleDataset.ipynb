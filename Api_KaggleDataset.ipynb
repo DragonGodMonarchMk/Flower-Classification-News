{
 "cells": [
  {
   "cell_type": "code",
   "execution_count": null,
   "id": "eed326d7",
   "metadata": {},
   "outputs": [],
   "source": [
    "# Install necessary libraries\n",
    "!pip install flask tensorflow pillow\n"
   ]
  },
  {
   "cell_type": "code",
   "execution_count": null,
   "id": "db158cdc",
   "metadata": {},
   "outputs": [],
   "source": [
    "# Import Libraries\n",
    "from flask import Flask, request, jsonify\n",
    "from tensorflow.keras.models import load_model\n",
    "from tensorflow.keras.preprocessing.image import img_to_array, load_img\n",
    "import numpy as np\n",
    "import os\n"
   ]
  },
  {
   "cell_type": "code",
   "execution_count": null,
   "id": "d6b49dca",
   "metadata": {},
   "outputs": [],
   "source": [
    "# Load Trained Model\n",
    "model = load_model('flower_model.h5')\n",
    "class_labels = ['daisy', 'dandelion', 'rose', 'sunflower', 'tulip']  # Update as per dataset classes\n"
   ]
  },
  {
   "cell_type": "code",
   "execution_count": null,
   "id": "7a878ad3",
   "metadata": {},
   "outputs": [],
   "source": [
    "# Initialize Flask App\n",
    "app = Flask(__name__)\n",
    "\n",
    "# Prediction Endpoint\n",
    "@app.route('/predict', methods=['POST'])\n",
    "def predict():\n",
    "    if 'file' not in request.files:\n",
    "        return jsonify({'error': 'No file uploaded'}), 400\n",
    "    \n",
    "    file = request.files['file']\n",
    "    if file.filename == '':\n",
    "        return jsonify({'error': 'No selected file'}), 400\n",
    "    \n",
    "    # Preprocess Image\n",
    "    img = load_img(file, target_size=(150, 150))\n",
    "    img = img_to_array(img) / 255.0\n",
    "    img = np.expand_dims(img, axis=0)\n",
    "    \n",
    "    # Predict\n",
    "    prediction = model.predict(img)\n",
    "    predicted_class = class_labels[np.argmax(prediction[0])]\n",
    "    \n",
    "    return jsonify({'prediction': predicted_class})\n"
   ]
  },
  {
   "cell_type": "code",
   "execution_count": null,
   "id": "097d2adc",
   "metadata": {},
   "outputs": [],
   "source": [
    "# Run Flask App\n",
    "if __name__ == '__main__':\n",
    "    app.run(host='0.0.0.0', port=5000)\n"
   ]
  }
 ],
 "metadata": {},
 "nbformat": 4,
 "nbformat_minor": 5
}
